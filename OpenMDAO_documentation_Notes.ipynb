{
 "cells": [
  {
   "attachments": {},
   "cell_type": "markdown",
   "metadata": {},
   "source": [
    "##### A complex, multidisciplinary and heterogeneous numerical model can be decomposed into a series of smaller computations that are chained together by passing variables from one to the next. These smaller computations happen in side a `Component`, the smallest unit of computational work the OpenMDAO framework understands.\n",
    "\n",
    "##### Each `Component` has an output and has its own set of variables. Based on type of calculation the user is trying to represent, OpenMDAO has different kind of components to work with.\n",
    "\n",
    "\n",
    "##### There are three basic types of components in OpenMDAO:\n",
    "\n",
    "##### `IndepVarComp` : defines independent variables (e.g., x)$$\n",
    "##### Independent variables are those that are set externally to the model—therefore, they are called model inputs.\n",
    "##### - From the perspective of a component, they are component outputs that do not depend on any component inputs.\n",
    "##### - From the perspective of a model, they can be viewed as design variables or model parameters that are set by the user or driver, prior to running the model.\n",
    "##### No longer have to define these because OpenMDAO defines and uses them automatically for all unconnected inputs in your model. However, there are some special cases where an IndepVarComp is required (see Distributed Variables.)\n",
    "\n",
    "\n",
    "##### `ExplicitComponent` : defines dependent variables that are computed explicitly (e.g., z)\n",
    "##### Explicit variables are those that are computed as an explicit function of other variables. For instance, `z` would be an explicit variable, given `z = sin(y)`, while `y` would not be, given that it is defined implicitly by the nonlinear equation `cos(x.y) - z.y = 0`.\n",
    "##### Explicit variables are defined by writing a class that inherits from the `ExplicitComponent` class. The explicit variables would be considered outputs while the variables on which they depend would be considered inputs (e.g., `y` in `z = sin(y)`.\n",
    "\n",
    "##### `ImplicitComponent` : defines dependent variables that are computed implicitly (e.g., y)\n",
    "##### Implicit variables are those that are computed as an implicit function of other variables. For instance, `y` would be an implicit variable, given that it is computed by solving `cos(x.y) - z.y = 0`. In OpenMDAO, implicit variables are defined as the outputs of components that inherit from `ImplicitComponent`.\n",
    "\n",
    "\n",
    "\n",
    "\n",
    "##### The most straightforward way to implement the numerical model would be to assign each variable its own component, as below.\n",
    "\n",
    "\n",
    "\n",
    "##### No. | Component_Type |  Inputs |  Outputs\n",
    "\n",
    "##### 1 | IndepVarComp       |   x   |    -\n",
    "##### 2 | ImplicitComponent  | x & z |    y\n",
    "##### 3 | ExplicitComponent  |   y   |    z\n"
   ]
  },
  {
   "attachments": {},
   "cell_type": "markdown",
   "metadata": {},
   "source": []
  }
 ],
 "metadata": {
  "language_info": {
   "name": "python"
  },
  "orig_nbformat": 4
 },
 "nbformat": 4,
 "nbformat_minor": 2
}
